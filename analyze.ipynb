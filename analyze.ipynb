{
 "cells": [
  {
   "cell_type": "code",
   "execution_count": 1,
   "metadata": {},
   "outputs": [],
   "source": [
    "from ring_nn import RingNN, RingTensor\n",
    "import matplotlib.pyplot as plt\n",
    "import numpy as np"
   ]
  },
  {
   "cell_type": "code",
   "execution_count": null,
   "metadata": {},
   "outputs": [],
   "source": [
    "nn = RingNN.load('ring_nn.pkl')\n",
    "\n",
    "for i in range(10):\n",
    "    w = nn.weights[0].data[:,i].reshape((28, 28))\n",
    "    print(i, w.min(), w.max())\n",
    "    plt.subplot(2, 5, i+1)\n",
    "    plt.imshow(np.abs(w), cmap='gray')\n",
    "    plt.title(f\"{i}\")\n",
    "    plt.axis('off')\n",
    "plt.tight_layout()\n",
    "plt.show()"
   ]
  },
  {
   "cell_type": "code",
   "execution_count": null,
   "metadata": {},
   "outputs": [],
   "source": [
    "from ring_nn import load_mnist\n",
    "\n",
    "*_, x, y = load_mnist()\n",
    "\n",
    "# Create a confusion matrix\n",
    "confusion = np.zeros((10, 10), dtype=int)\n",
    "\n",
    "# Collect predictions for test set\n",
    "for test_x, test_y in zip(x, y):\n",
    "    pred = nn(test_x).abs().data.argmax()\n",
    "    true = test_y.abs().data.argmax()\n",
    "    confusion[true, pred] += 1\n",
    "\n",
    "# Plot confusion matrix\n",
    "plt.figure(figsize=(10,8))\n",
    "plt.imshow(confusion, cmap='Blues')\n",
    "plt.colorbar()\n",
    "plt.xlabel('Predicted')\n",
    "plt.ylabel('True')\n",
    "plt.title('Confusion Matrix')\n",
    "\n",
    "# Add numbers to cells\n",
    "for i in range(10):\n",
    "    for j in range(10):\n",
    "        plt.text(j, i, confusion[i,j], \n",
    "                ha='center', va='center')\n",
    "\n",
    "plt.tight_layout()\n",
    "plt.show()\n",
    "\n",
    "# Print per-class accuracy\n",
    "print(\"\\nPer-class accuracy:\")\n",
    "for i in range(10):\n",
    "    accuracy = confusion[i,i] / (confusion[i,:].sum()+1e-10) * 100\n",
    "    print(f\"Class {i}: {accuracy:.1f}%\")\n",
    "\n"
   ]
  }
 ],
 "metadata": {
  "kernelspec": {
   "display_name": "Python 3",
   "language": "python",
   "name": "python3"
  },
  "language_info": {
   "codemirror_mode": {
    "name": "ipython",
    "version": 3
   },
   "file_extension": ".py",
   "mimetype": "text/x-python",
   "name": "python",
   "nbconvert_exporter": "python",
   "pygments_lexer": "ipython3",
   "version": "3.12.3"
  }
 },
 "nbformat": 4,
 "nbformat_minor": 2
}
