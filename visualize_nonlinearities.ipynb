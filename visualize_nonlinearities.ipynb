{
 "cells": [
  {
   "cell_type": "code",
   "execution_count": null,
   "id": "4068ae23",
   "metadata": {},
   "outputs": [],
   "source": [
    "from tensor import RingTensor\n",
    "import numpy as np\n",
    "from matplotlib import pyplot as plt"
   ]
  },
  {
   "cell_type": "code",
   "execution_count": null,
   "id": "82140907",
   "metadata": {},
   "outputs": [],
   "source": [
    "x = RingTensor(np.arange(-1, 1, 0.01))\n",
    "\n",
    "plt.plot(x.as_float(), x.poly(1.5).as_float(), label='poly(1.2)')\n",
    "\n",
    "plt.plot(x.as_float(), x.poly_sigmoid(1.2, 4).as_float(), label='poly_sigmoid(1.2, 4)')\n",
    "\n",
    "plt.plot(x.as_float(), x.sin2().as_float(), label='sin()')\n",
    "\n",
    "plt.plot(x.as_float(), x.cos().as_float(), label='cos()')\n",
    "\n",
    "plt.plot(x.as_float(), x.cos2().as_float(), label='cos2()')\n",
    "\n",
    "plt.legend()\n",
    "plt.show()\n"
   ]
  }
 ],
 "metadata": {
  "kernelspec": {
   "display_name": ".venv",
   "language": "python",
   "name": "python3"
  },
  "language_info": {
   "codemirror_mode": {
    "name": "ipython",
    "version": 3
   },
   "file_extension": ".py",
   "mimetype": "text/x-python",
   "name": "python",
   "nbconvert_exporter": "python",
   "pygments_lexer": "ipython3",
   "version": "3.13.3"
  }
 },
 "nbformat": 4,
 "nbformat_minor": 5
}
